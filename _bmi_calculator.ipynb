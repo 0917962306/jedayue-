{
  "nbformat": 4,
  "nbformat_minor": 0,
  "metadata": {
    "colab": {
      "provenance": [],
      "include_colab_link": true
    },
    "kernelspec": {
      "name": "python3",
      "display_name": "Python 3"
    },
    "language_info": {
      "name": "python"
    }
  },
  "cells": [
    {
      "cell_type": "markdown",
      "metadata": {
        "id": "view-in-github",
        "colab_type": "text"
      },
      "source": [
        "<a href=\"https://colab.research.google.com/github/0917962306/jedayue-/blob/main/_bmi_calculator.ipynb\" target=\"_parent\"><img src=\"https://colab.research.google.com/assets/colab-badge.svg\" alt=\"Open In Colab\"/></a>"
      ]
    },
    {
      "cell_type": "markdown",
      "metadata": {
        "id": "1A727HZpzFR_"
      },
      "source": [
        "# 血壓計算器\n",
        "\n",
        "作者：系級 姓名 學號、系級 姓名 學號、…\n",
        "\n",
        "---\n",
        "\n",
        "美國心臟協會於2017年11月13日發布有關高血壓標準值的最新治療指引，重新定義血壓達130/80毫米汞柱（收縮壓130毫米汞柱、舒張壓80毫米汞柱）以上即為高血壓。這是美國醫學界2003年以來首度更新有關血壓檢測與治療的指引，先前的高血壓定義為140/90毫米汞柱以上。\n",
        "\n",
        "根據衛生福利部國民健康署《高血壓防治學習手冊》，高血壓根據血壓量測的數值，可以分為四個階段。當舒張壓或收縮壓其中一項超過標準值時，即可能被判定為高血壓。（單位：mmHg）\n",
        "\n",
        "|  | 收縮壓 | 舒張壓 |\n",
        "| --- |  |  |\n",
        "| 血壓正常 | <120 | <80 |\n",
        "| 高血壓前期 | 120～139 | 80～89 |\n",
        "| 第一期高血壓 | 140～159 | 90～99 |\n",
        "| 第二期高血壓 | 160以上 | 100以上 |\n",
        "\n",
        "\n",
        "References:\n",
        "\n",
        "* [1] [高血壓標準值是多少？如何降血壓？簡單13招維持血壓正常│早安健康](https://www.edh.tw/amp/article/17282)"
      ]
    },
    {
      "cell_type": "code",
      "metadata": {
        "id": "6C1E-5cjzDAd",
        "colab": {
          "base_uri": "https://localhost:8080/"
        },
        "outputId": "df159ec2-0099-421e-f744-16dacacc1bf0"
      },
      "source": [
        "#@title 請輸入你的收縮壓與舒張壓 {display-mode: \"form\"}\n",
        "\n",
        "# Get user’s height & weight\n",
        "收縮壓 = \"140\" # @param {type:\"string\"}\n",
        "舒張壓 = \"80\" # @param {type:\"string\"}\n",
        "\n",
        "#@markdown 輸入完成後，請按下左上角Play圖示，或鍵盤上Ctrl+Enter組合鍵，進行計算。\n",
        "# Calculate user’s BP and show it on the screen\n",
        "a=int(收縮壓)\n",
        "b=int(舒張壓)\n",
        "if a > 0 and b > 0:\n",
        "    print(f\"您的收縮壓為:{a}，您的舒張壓為:{b}\")\n",
        "    # Put user into a category based on his/her BP\n",
        "    if a<120 and b<80:\n",
        "      print(\"恭喜你非常的健康\")\n",
        "    elif (a>=120 and a<140) and (b>=80 and b<90):\n",
        "      print(\"有點危\")\n",
        "    elif (a>=140 and a<160) and (b>=90 and b<100):\n",
        "      print(\"有億點危\")\n",
        "    elif a>=160 and b>=100:\n",
        "      print(\"超級危\")\n",
        "else:\n",
        "    print(\"收縮壓與舒張壓不得為零或負數\")"
      ],
      "execution_count": 9,
      "outputs": [
        {
          "output_type": "stream",
          "name": "stdout",
          "text": [
            "您的收縮壓為:160，您的舒張壓為:100\n",
            "超級危\n"
          ]
        }
      ]
    },
    {
      "cell_type": "code",
      "source": [
        "from google.colab import drive\n",
        "drive.mount('/content/drive')"
      ],
      "metadata": {
        "colab": {
          "base_uri": "https://localhost:8080/"
        },
        "id": "3ierxfPLUGL3",
        "outputId": "821bc728-ba63-4b4b-8acb-b635ebc9119f"
      },
      "execution_count": null,
      "outputs": [
        {
          "output_type": "stream",
          "name": "stdout",
          "text": [
            "Drive already mounted at /content/drive; to attempt to forcibly remount, call drive.mount(\"/content/drive\", force_remount=True).\n"
          ]
        }
      ]
    }
  ]
}